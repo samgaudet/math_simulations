{
 "cells": [
  {
   "cell_type": "code",
   "execution_count": 1,
   "metadata": {
    "collapsed": true
   },
   "outputs": [],
   "source": [
    "import pandas as pd\n",
    "import matplotlib.pyplot as plt"
   ]
  },
  {
   "cell_type": "code",
   "execution_count": null,
   "metadata": {},
   "outputs": [],
   "source": [
    "n = int(input('> '))"
   ]
  },
  {
   "cell_type": "code",
   "execution_count": null,
   "metadata": {
    "collapsed": true
   },
   "outputs": [],
   "source": [
    "# user-input for sample size\n",
    "\n",
    "n = int(input('> '))\n",
    "\n",
    "# create empty pandas dataframe to fill with data\n",
    "\n",
    "df = pd.DataFrame(columns=['initialValue', 'stepCount'])\n",
    "\n",
    "# loop through values in range of sample size, starting with i = 2\n",
    "\n",
    "for i in range(2,n):\n",
    "    \n",
    "    stepCount = 0\n",
    "    j = i\n",
    "\n",
    "    # apply collatz conjecture rules\n",
    "\n",
    "    while j != 1:\n",
    "        if j % 2 == 0:\n",
    "            j = j / 2\n",
    "            stepCount += 1\n",
    "        else:\n",
    "            j = 3*j + 1\n",
    "            stepCount += 1\n",
    "\n",
    "    # add starting value, number of steps until j = 1 to dataframe\n",
    "\n",
    "    df = df.append(pd.DataFrame({'initialValue': i, 'stepCount': stepCount}, index=[0]), ignore_index=True)"
   ]
  }
 ],
 "metadata": {
  "kernelspec": {
   "display_name": "Python 3",
   "language": "python",
   "name": "python3"
  },
  "language_info": {
   "codemirror_mode": {
    "name": "ipython",
    "version": 3
   },
   "file_extension": ".py",
   "mimetype": "text/x-python",
   "name": "python",
   "nbconvert_exporter": "python",
   "pygments_lexer": "ipython3",
   "version": "3.6.3"
  }
 },
 "nbformat": 4,
 "nbformat_minor": 2
}
